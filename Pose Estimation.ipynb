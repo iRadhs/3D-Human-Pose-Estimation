{
 "cells": [
  {
   "cell_type": "code",
   "execution_count": null,
   "metadata": {},
   "outputs": [],
   "source": [
    "import cv2\n",
    "import mediapipe as mp\n",
    "import time\n",
    "\n",
    "mpPose = mp.solutions.pose\n",
    "pose = mpPose.Pose()\n",
    "mpDraw = mp.solutions.drawing_utils\n",
    "\n",
    "cap = cv2.VideoCapture('martial-arts.mp4')\n",
    "pTime = 0\n",
    "while True:\n",
    "    success, img = cap.read()\n",
    "    imgRGB = cv2.cvtColor(img, cv2.COLOR_BGR2RGB)\n",
    "    results = pose.process(imgRGB)\n",
    "    print(results.pose_landmarks)\n",
    "\n",
    "    if results.pose_landmarks:\n",
    "        mpDraw.draw_landmarks(img, results.pose_landmarks, mpPose.POSE_CONNECTIONS)\n",
    "        for id, lm in enumerate(results.pose_landmarks.landmark):\n",
    "            h, w,c = img.shape\n",
    "            print(id, lm)\n",
    "            cx, cy = int(lm.x*w), int(lm.y*h)\n",
    "            cv2.circle(img, (cx, cy), 5, (255,255,0), cv2.FILLED)\n",
    "        \n",
    "\n",
    "        cTime = time.time()\n",
    "        fps = 1/(cTime-pTime)\n",
    "        print(\"fps\", fps)\n",
    "        pTime = cTime\n",
    "        print(\"pTime\", pTime)\n",
    "        startTime = 20*fps\n",
    "        endTime = 25*fps\n",
    "        imgList = []\n",
    "        i = 0\n",
    "        \n",
    "        cv2.putText(img, str(int(fps)), (25,25), cv2.FONT_HERSHEY_SIMPLEX,1,(0, 128, 255), 3)\n",
    "        if (i>=startTime and i<=endTime):\n",
    "            imgList.append(imgRGB)\n",
    "        cv2.imshow(\"Image\", img)\n",
    "        cv2.waitKey(1)\n",
    "cap.release()"
   ]
  },
  {
   "cell_type": "code",
   "execution_count": null,
   "metadata": {},
   "outputs": [],
   "source": []
  }
 ],
 "metadata": {
  "kernelspec": {
   "display_name": "base",
   "language": "python",
   "name": "python3"
  },
  "language_info": {
   "codemirror_mode": {
    "name": "ipython",
    "version": 3
   },
   "file_extension": ".py",
   "mimetype": "text/x-python",
   "name": "python",
   "nbconvert_exporter": "python",
   "pygments_lexer": "ipython3",
   "version": "3.9.13"
  },
  "orig_nbformat": 4
 },
 "nbformat": 4,
 "nbformat_minor": 2
}
